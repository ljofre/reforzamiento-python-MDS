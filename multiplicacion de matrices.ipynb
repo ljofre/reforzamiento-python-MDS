{
 "cells": [
  {
   "cell_type": "markdown",
   "metadata": {},
   "source": [
    "### multiplicación de matrices\n",
    "\n",
    "Este es un ejemplo de multiplicación de matrices en python"
   ]
  },
  {
   "cell_type": "markdown",
   "metadata": {},
   "source": [
    "### Paso 1: generar algunos casos particulares\n"
   ]
  },
  {
   "cell_type": "code",
   "execution_count": 42,
   "metadata": {},
   "outputs": [
    {
     "name": "stdout",
     "output_type": "stream",
     "text": [
      "[[1, 2, 3], [2, 2, 3], [5, 5, 5]]\n",
      "[[2, 3, 2], [2, 2, 1], [2, 5, 1]]\n"
     ]
    }
   ],
   "source": [
    "A = [[1,2,3],[2,2,3], [5,5,5]]\n",
    "print(A)\n",
    "\n",
    "B = [[2,3,2],[2,2,1], [2,5,1]]\n",
    "print(B)"
   ]
  },
  {
   "cell_type": "markdown",
   "metadata": {},
   "source": [
    "Buscamos una matriz $C$ que sea la multiplicación de la matriz $A$ y \n",
    "la matriz $B$.\n",
    "\n",
    "$$c_{ij} = \\sum_k^n a_{ik} b_{kj}$$"
   ]
  },
  {
   "cell_type": "code",
   "execution_count": 43,
   "metadata": {},
   "outputs": [
    {
     "data": {
      "text/plain": [
       "[[0, 0, 0], [0, 0, 0], [0, 0, 0]]"
      ]
     },
     "execution_count": 43,
     "metadata": {},
     "output_type": "execute_result"
    }
   ],
   "source": [
    "C = [[0,0,0],[0,0,0],[0,0,0]]\n",
    "C"
   ]
  },
  {
   "cell_type": "code",
   "execution_count": 44,
   "metadata": {},
   "outputs": [
    {
     "name": "stdout",
     "output_type": "stream",
     "text": [
      "[[12, 22, 7], [14, 25, 9], [30, 50, 20]]\n"
     ]
    }
   ],
   "source": [
    "for i in range(3):\n",
    "    for j in range(3):\n",
    "        C[i][j] = sum([A[i][k]*B[k][j] for k in range(3)])\n",
    "\n",
    "\n",
    "print(C)"
   ]
  },
  {
   "cell_type": "markdown",
   "metadata": {},
   "source": [
    "### Paso 2: Generar algunas generalizaciones\n",
    "En el paso 1 desarrollamos un ejemplo simple cuando la dimensión de la matriz es $q=3$"
   ]
  },
  {
   "cell_type": "code",
   "execution_count": null,
   "metadata": {},
   "outputs": [],
   "source": []
  }
 ],
 "metadata": {
  "kernelspec": {
   "display_name": "Python 3",
   "language": "python",
   "name": "python3"
  },
  "language_info": {
   "codemirror_mode": {
    "name": "ipython",
    "version": 3
   },
   "file_extension": ".py",
   "mimetype": "text/x-python",
   "name": "python",
   "nbconvert_exporter": "python",
   "pygments_lexer": "ipython3",
   "version": "3.7.3"
  }
 },
 "nbformat": 4,
 "nbformat_minor": 2
}
