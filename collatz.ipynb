{
 "cells": [
  {
   "cell_type": "code",
   "execution_count": 12,
   "metadata": {},
   "outputs": [
    {
     "name": "stdout",
     "output_type": "stream",
     "text": [
      "10\n",
      "5.0\n",
      "16.0\n",
      "8.0\n",
      "4.0\n",
      "2.0\n",
      "1.0\n"
     ]
    }
   ],
   "source": [
    "def collatz(n): # funcion\n",
    "    print(n)\n",
    "    while n !=1 : # ciclo while\n",
    "        if n % 2 == 0: # decision\n",
    "            n = n/2\n",
    "            print(n)\n",
    "        else:\n",
    "            n = 3*n + 1\n",
    "            print(n)\n",
    "            \n",
    "\n",
    "collatz(10)"
   ]
  },
  {
   "cell_type": "code",
   "execution_count": 9,
   "metadata": {},
   "outputs": [
    {
     "name": "stdout",
     "output_type": "stream",
     "text": [
      "10\n",
      "5.0\n",
      "16.0\n",
      "8.0\n",
      "4.0\n",
      "2.0\n",
      "1.0\n",
      "4.0\n",
      "2.0\n",
      "1.0\n",
      "4.0\n",
      "2.0\n",
      "1.0\n",
      "4.0\n",
      "2.0\n",
      "1.0\n",
      "4.0\n",
      "2.0\n",
      "1.0\n",
      "4.0\n",
      "2.0\n",
      "1.0\n",
      "4.0\n",
      "2.0\n",
      "1.0\n",
      "4.0\n",
      "2.0\n",
      "1.0\n",
      "4.0\n",
      "2.0\n",
      "1.0\n"
     ]
    }
   ],
   "source": [
    "def collatz(n): # funcion\n",
    "    print(n)\n",
    "    for i in range(30): # ciclo for\n",
    "        if n % 2 == 0: # decision\n",
    "            n = n/2\n",
    "            print(n)\n",
    "        else:\n",
    "            n = 3*n + 1\n",
    "            print(n)\n",
    "            \n",
    "\n",
    "collatz(10)"
   ]
  },
  {
   "cell_type": "code",
   "execution_count": null,
   "metadata": {},
   "outputs": [],
   "source": []
  },
  {
   "cell_type": "code",
   "execution_count": null,
   "metadata": {},
   "outputs": [],
   "source": []
  }
 ],
 "metadata": {
  "kernelspec": {
   "display_name": "Python 3",
   "language": "python",
   "name": "python3"
  },
  "language_info": {
   "codemirror_mode": {
    "name": "ipython",
    "version": 3
   },
   "file_extension": ".py",
   "mimetype": "text/x-python",
   "name": "python",
   "nbconvert_exporter": "python",
   "pygments_lexer": "ipython3",
   "version": "3.7.3"
  }
 },
 "nbformat": 4,
 "nbformat_minor": 2
}
