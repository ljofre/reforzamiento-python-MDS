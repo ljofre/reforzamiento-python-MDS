{
 "cells": [
  {
   "cell_type": "markdown",
   "metadata": {},
   "source": [
    "## Organización del curso\n",
    "\n",
    "\n",
    "### Por qué python ?\n",
    "\n",
    "1. Facil de aprender\n",
    "2. Con librerías complejas\n",
    "3. Tiene potentes librerías de ciencias de datos"
   ]
  },
  {
   "cell_type": "code",
   "execution_count": 6,
   "metadata": {},
   "outputs": [
    {
     "data": {
      "text/plain": [
       "2"
      ]
     },
     "execution_count": 6,
     "metadata": {},
     "output_type": "execute_result"
    }
   ],
   "source": [
    "import numpy as np   # manejo de matrices\n",
    "import pandas as pd  # manejo de dataframes\n",
    "import scipy as sp   # manejo de algoritmos 100-tifikos\n",
    "\n",
    "1 + 1"
   ]
  },
  {
   "cell_type": "markdown",
   "metadata": {},
   "source": [
    "## En qué se va a enfocar este curso de reforzamiento ??\n",
    "\n",
    "Este curso de refuerza los siguientes aspectos de la programación en python\n",
    "\n",
    "1. Prerequisitos del lenguaje, uso de jupyter-notebook, jupyter-lab.\n",
    "2. Pandas toolkit\n",
    "3. Manupulación de datos en pandas\n",
    "4. Análisis estadístico con numpy, scipy, pandas.\n",
    "5. Visualización con matplotlib.\n",
    "6. Uso de Sagemaker en Amazon Web Services.\n",
    "7. Uso de Spark con docker y ejemplos en Amazon web services con Clusters reales. Ejemplo con reglas de asociación.\n",
    "8. Problemas de investigación en librerías que son tan especializadas que no podremos abarcar en clases.\n",
    "    1. torch\n",
    "    2. networkx\n",
    "    3. or-tools\n",
    "    4. featuretools\n",
    "    5. tensorflow\n",
    "    \n",
    "9. Problemas democráticamente seleccionados.\n",
    "10. Generación de una librería open source en github"
   ]
  },
  {
   "cell_type": "markdown",
   "metadata": {},
   "source": [
    "## Bibliografía importante\n",
    "\n",
    "Existe mucha bibliografía en la cual reforzar nuestro conocimiento sobre python. \n",
    "\n",
    "recomiendo los siguientes libros.\n",
    "\n",
    "1. [Python Data Analytics](http://booksdescr.org/item/index.php?md5=E9B3F0AC6DF37A2B5C7EB8B1C7836771)\n",
    "2. [Data Science from Scratch: First Principles with Python](http://booksdescr.org/item/index.php?md5=F714F67B25F9A5B4F94F744D2BDD07F4)\n",
    "3. [Python Data Science Essentials - Learn the fundamentals of Data Science with Python](http://booksdescr.org/item/index.php?md5=3D9D4D450EDD0C6590A89ED4B023252E)\n",
    "4. [Python Data Science Cookbook](http://booksdescr.org/item/index.php?md5=0AAC3C839D5163F8B3F17DC7E655C36B)\n",
    "5. [Machine Learning with PySpark: With Natural Language Processing and Recommender Systems](http://booksdescr.org/item/index.php?md5=6F48B0A8B966C8C26930F5BA5C81228D)\n",
    "\n",
    "Siempre podemos hacer uso de [stackoverflow](https://stackoverflow.com/). Si usted tiene un problema posiblemente alguien ya lo experimentó y un chino ya lo solucinó."
   ]
  },
  {
   "cell_type": "markdown",
   "metadata": {},
   "source": [
    "ejercicio 1:\n",
    "   "
   ]
  },
  {
   "cell_type": "markdown",
   "metadata": {},
   "source": [
    "Data Science según David Donoho\n",
    "==\n",
    "\n",
    "1. Manipulación y preparación de los datos\n",
    "2. Representación y transformación de los datos\n",
    "3. Cálculo con los datos (computación, R, Python, Julia, Scala, etc.)\n",
    "4. Modelamiento de los datos\n",
    "5. Visualización y presentación\n",
    "\n",
    "\n",
    "[Referencia](http://courses.csail.mit.edu/18.337/2015/docs/50YearsDataScience.pdf)"
   ]
  },
  {
   "cell_type": "code",
   "execution_count": 7,
   "metadata": {},
   "outputs": [],
   "source": [
    "def suma(a, b):\n",
    "    return a + b"
   ]
  }
 ],
 "metadata": {
  "kernelspec": {
   "display_name": "Python 3",
   "language": "python",
   "name": "python3"
  },
  "language_info": {
   "codemirror_mode": {
    "name": "ipython",
    "version": 3
   },
   "file_extension": ".py",
   "mimetype": "text/x-python",
   "name": "python",
   "nbconvert_exporter": "python",
   "pygments_lexer": "ipython3",
   "version": "3.7.3"
  }
 },
 "nbformat": 4,
 "nbformat_minor": 2
}
