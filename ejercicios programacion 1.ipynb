{
 "cells": [
  {
   "cell_type": "markdown",
   "metadata": {},
   "source": [
    "### Ejercicios 1 de programación en python:\n",
    "    \n",
    "1. Mediante un ciclo while encuentre el óptimo de la función $f(x) = x^2 + 3 - 2$ mediante método decenso de gradiente. (medium)\n",
    "\n",
    "2. Crear dos matrices en numpy e implementar la función **multiplicar_matrices**\n",
    "\n",
    "3. Crear una función para verificar la conjetura de Collatz"
   ]
  },
  {
   "cell_type": "code",
   "execution_count": null,
   "metadata": {},
   "outputs": [],
   "source": []
  }
 ],
 "metadata": {
  "kernelspec": {
   "display_name": "Python 3",
   "language": "python",
   "name": "python3"
  },
  "language_info": {
   "codemirror_mode": {
    "name": "ipython",
    "version": 3
   },
   "file_extension": ".py",
   "mimetype": "text/x-python",
   "name": "python",
   "nbconvert_exporter": "python",
   "pygments_lexer": "ipython3",
   "version": "3.7.3"
  }
 },
 "nbformat": 4,
 "nbformat_minor": 2
}
