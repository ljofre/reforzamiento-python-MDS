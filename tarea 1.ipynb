{
 "cells": [
  {
   "cell_type": "markdown",
   "metadata": {},
   "source": [
    "Solución de tarea 1\n",
    "==="
   ]
  },
  {
   "cell_type": "code",
   "execution_count": 19,
   "metadata": {},
   "outputs": [
    {
     "data": {
      "text/plain": [
       "3628800"
      ]
     },
     "execution_count": 19,
     "metadata": {},
     "output_type": "execute_result"
    }
   ],
   "source": [
    "import numpy as np\n",
    "def factorial(n):\n",
    "    try:\n",
    "        assert type(n) == int\n",
    "        assert n >= 0\n",
    "        if (n == 0) | (n == 1):\n",
    "            return 1\n",
    "    \n",
    "        return n*factorial(n-1)\n",
    "    except AssertionError: \n",
    "        return np.nan\n",
    "    \n",
    "factorial(10)"
   ]
  },
  {
   "cell_type": "markdown",
   "metadata": {},
   "source": [
    "## número combinacional\n",
    "\n"
   ]
  },
  {
   "cell_type": "code",
   "execution_count": 38,
   "metadata": {},
   "outputs": [
    {
     "name": "stdout",
     "output_type": "stream",
     "text": [
      "no se puede\n"
     ]
    }
   ],
   "source": [
    "try:\n",
    "    0/0\n",
    "except ZeroDivisionError:\n",
    "    print(\"no se puede\")\n",
    "except "
   ]
  },
  {
   "cell_type": "code",
   "execution_count": 55,
   "metadata": {},
   "outputs": [],
   "source": [
    "def comb(a,b):\n",
    "    try:\n",
    "        assert a >= b\n",
    "        return int(factorial(a)/(factorial(b)*factorial(a - b)))\n",
    "    except AssertionError:\n",
    "        print(\"no definido\")\n",
    "        return np.nan"
   ]
  },
  {
   "cell_type": "code",
   "execution_count": 56,
   "metadata": {},
   "outputs": [],
   "source": [
    "## agregar test a nuestra funcion\n",
    "assert comb(0,0) == 1\n",
    "assert comb(1,0) + comb(1,1) == 2\n",
    "assert comb(2,0) + comb(2,1) + comb(2,2) == 4"
   ]
  },
  {
   "cell_type": "code",
   "execution_count": 58,
   "metadata": {},
   "outputs": [],
   "source": [
    "def poisson(l,x):\n",
    "    return np.exp(-l)*(l**x)/factorial(x)"
   ]
  },
  {
   "cell_type": "code",
   "execution_count": 59,
   "metadata": {},
   "outputs": [
    {
     "data": {
      "text/plain": [
       "0.36787944117144233"
      ]
     },
     "execution_count": 59,
     "metadata": {},
     "output_type": "execute_result"
    }
   ],
   "source": [
    "poisson(1,1)"
   ]
  },
  {
   "cell_type": "code",
   "execution_count": 64,
   "metadata": {},
   "outputs": [
    {
     "data": {
      "text/plain": [
       "0.05739562800000002"
      ]
     },
     "execution_count": 64,
     "metadata": {},
     "output_type": "execute_result"
    }
   ],
   "source": [
    "def binom(n,p,x):\n",
    "    assert x <= n # esto no se puee\n",
    "    return comb(n,x)*(p**x)*((1-p)**(n-x))\n",
    "\n",
    "binom(10, 0.1, 3)"
   ]
  },
  {
   "cell_type": "code",
   "execution_count": null,
   "metadata": {},
   "outputs": [],
   "source": []
  }
 ],
 "metadata": {
  "kernelspec": {
   "display_name": "Python 3",
   "language": "python",
   "name": "python3"
  },
  "language_info": {
   "codemirror_mode": {
    "name": "ipython",
    "version": 3
   },
   "file_extension": ".py",
   "mimetype": "text/x-python",
   "name": "python",
   "nbconvert_exporter": "python",
   "pygments_lexer": "ipython3",
   "version": "3.7.3"
  }
 },
 "nbformat": 4,
 "nbformat_minor": 2
}
