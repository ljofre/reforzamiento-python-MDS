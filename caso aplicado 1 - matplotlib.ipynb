{
 "cells": [
  {
   "cell_type": "markdown",
   "metadata": {},
   "source": [
    "Haremos un ejemplo práctico de desarrollo de una visualización basado en un caso de consultoría real.\n",
    "\n",
    "### Problema:\n",
    "\n",
    "\n",
    "La empresa **XXX** se desempeña como una empresa de mantenimiento y logística. Recibe productos desde la empresa **fabricante**, coloca la Marca del **cliente** y almacena en sus bodegas para despachar diariamente una $n_i$ mensual. El valor de $n_i$ es definido por el cliente bajo un forecast de demanda que el cliente trasmite a XXX. XXX tiene entonces el desafio de cumplir con un nivel de servicio adecuado y distribuir sus dotación de personal.\n",
    "\n",
    "XXX sabe que la variable a gestionar es la dotación de personal para cumplir con los despachos.\n",
    "\n",
    "Tenemos los siguientes antecedentes\n",
    "\n",
    "1. El alcance es definido $n_i$\n",
    "2. La variable a gestionar es la dotación de personal $d_1, d_2, \\ldots, d_{30}$ para un mes de 30 días.\n",
    "3. No se trabaja los días feriados\n",
    "\n",
    "XXX necesita saber como debe gestionar de manera óptima y se le pide a usted como consultor de analytics proponer una visualización sobre el status de la operación. \n",
    "\n",
    "\n",
    "### Desafios:\n",
    "\n",
    "Consolidar una visualización que incorpore el status de cumplimiento del proyecto y los principales kpi de gestión\n"
   ]
  },
  {
   "cell_type": "code",
   "execution_count": null,
   "metadata": {},
   "outputs": [],
   "source": []
  }
 ],
 "metadata": {
  "kernelspec": {
   "display_name": "Python 3",
   "language": "python",
   "name": "python3"
  },
  "language_info": {
   "codemirror_mode": {
    "name": "ipython",
    "version": 3
   },
   "file_extension": ".py",
   "mimetype": "text/x-python",
   "name": "python",
   "nbconvert_exporter": "python",
   "pygments_lexer": "ipython3",
   "version": "3.7.3"
  }
 },
 "nbformat": 4,
 "nbformat_minor": 2
}
