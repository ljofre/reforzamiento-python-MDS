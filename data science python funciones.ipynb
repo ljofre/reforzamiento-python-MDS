{
 "cells": [
  {
   "cell_type": "markdown",
   "metadata": {},
   "source": [
    "Funciones en python\n",
    "==\n",
    "\n",
    "Después de este reforzamiento se espera que usted pueda construir sus propias funciones, entienda la sintaxis y pueda hacer librerías reutilizables."
   ]
  },
  {
   "cell_type": "code",
   "execution_count": 2,
   "metadata": {},
   "outputs": [
    {
     "data": {
      "text/plain": [
       "float"
      ]
     },
     "execution_count": 2,
     "metadata": {},
     "output_type": "execute_result"
    }
   ],
   "source": [
    "def sumar_dos_numeros(a, b):\n",
    "    return a + b\n",
    "\n",
    "sumar_dos_numeros(a=300.0, b=2)"
   ]
  },
  {
   "cell_type": "code",
   "execution_count": 3,
   "metadata": {},
   "outputs": [
    {
     "data": {
      "text/plain": [
       "201"
      ]
     },
     "execution_count": 3,
     "metadata": {},
     "output_type": "execute_result"
    }
   ],
   "source": [
    "sumar_dos_numeros(b=200, a=1)"
   ]
  },
  {
   "cell_type": "code",
   "execution_count": 9,
   "metadata": {},
   "outputs": [
    {
     "name": "stdout",
     "output_type": "stream",
     "text": [
      "no se puede\n"
     ]
    }
   ],
   "source": [
    "def div(a,b):\n",
    "    try:\n",
    "        return a/b\n",
    "    except ZeroDivisionError:\n",
    "        print(\"no se puede\")\n",
    "\n",
    "div(4,0)"
   ]
  },
  {
   "cell_type": "code",
   "execution_count": null,
   "metadata": {},
   "outputs": [],
   "source": [
    "div <- function(a,b){\n",
    "    a + b\n",
    "}"
   ]
  },
  {
   "cell_type": "code",
   "execution_count": 16,
   "metadata": {},
   "outputs": [
    {
     "name": "stdout",
     "output_type": "stream",
     "text": [
      "warning: el numerador es distito de entero\n"
     ]
    },
    {
     "data": {
      "text/plain": [
       "0.8979591836734694"
      ]
     },
     "execution_count": 16,
     "metadata": {},
     "output_type": "execute_result"
    }
   ],
   "source": [
    "import numpy as np\n",
    "\n",
    "# manejo de excepciones\n",
    "\n",
    "def div(a,b):\n",
    "    \n",
    "    try:\n",
    "        assert type(a) == int\n",
    "    except AssertionError:\n",
    "        print(\"warning: el numerador es distito de entero\")\n",
    "\n",
    "    \n",
    "    try:\n",
    "        return a/b\n",
    "    except ZeroDivisionError:\n",
    "        print(\"division por zero!\")\n",
    "        \n",
    "        return 1000 # spoiler \n",
    "\n",
    "div(4.4, 4.9)"
   ]
  },
  {
   "cell_type": "markdown",
   "metadata": {},
   "source": [
    "Podemos actualiza una función ya desarrollada, \n",
    "mediante la función **print** podemos desplegar \n",
    "el resultado"
   ]
  },
  {
   "cell_type": "code",
   "execution_count": 21,
   "metadata": {},
   "outputs": [
    {
     "name": "stdout",
     "output_type": "stream",
     "text": [
      "3\n",
      "6\n"
     ]
    }
   ],
   "source": [
    "\n",
    "def sumar_dos_numeros(x, y, z=None):\n",
    "    if (z == None):\n",
    "        return x + y\n",
    "    else:\n",
    "        return x + y + z\n",
    "\n",
    "print(sumar_dos_numeros(1, 2))\n",
    "\n",
    "print(sumar_dos_numeros(1, 2, 3))\n"
   ]
  },
  {
   "cell_type": "markdown",
   "metadata": {},
   "source": [
    "podemos agregar más y más parámetros a las funciones"
   ]
  },
  {
   "cell_type": "code",
   "execution_count": 35,
   "metadata": {},
   "outputs": [
    {
     "name": "stdout",
     "output_type": "stream",
     "text": [
      "Flag is false!\n",
      "3\n"
     ]
    }
   ],
   "source": [
    "def add_numbers(x, y, z=None, flag=False):\n",
    "    if (~flag):\n",
    "        print('Flag is false!')\n",
    "    if (z==None):\n",
    "        return x + y\n",
    "    else:\n",
    "        return x + y + z\n",
    "    \n",
    "print(add_numbers(1, 2, flag=True))"
   ]
  },
  {
   "cell_type": "markdown",
   "metadata": {},
   "source": [
    "finalmente podemos asignar el resultado de a una nueva variable la misma función."
   ]
  },
  {
   "cell_type": "markdown",
   "metadata": {},
   "source": [
    "```r\n",
    "add_number <- function(x,y){\n",
    "return x + y\n",
    "}\n",
    "```\n"
   ]
  },
  {
   "cell_type": "code",
   "execution_count": 22,
   "metadata": {},
   "outputs": [
    {
     "data": {
      "text/plain": [
       "4"
      ]
     },
     "execution_count": 22,
     "metadata": {},
     "output_type": "execute_result"
    }
   ],
   "source": [
    "def add_numbers(x, y): \n",
    "    return x + y\n",
    "\n",
    "a = add_numbers\n",
    "\n",
    "a(1,3)"
   ]
  },
  {
   "cell_type": "code",
   "execution_count": 26,
   "metadata": {},
   "outputs": [
    {
     "data": {
      "text/plain": [
       "120"
      ]
     },
     "execution_count": 26,
     "metadata": {},
     "output_type": "execute_result"
    }
   ],
   "source": [
    "def fact(n):\n",
    "    if n == 0 | n == 1:\n",
    "        return 1\n",
    "    else:\n",
    "        return n*fact(n-1)\n",
    "    \n",
    "fact(5)"
   ]
  },
  {
   "cell_type": "markdown",
   "metadata": {},
   "source": [
    "Ejercicio:\n",
    "    1. Crear la función factorial\n",
    "    2. Crear para un número combinacional\n",
    "    3. Crear una función Para la distribución binonial y la distribución de Poisson."
   ]
  },
  {
   "cell_type": "markdown",
   "metadata": {},
   "source": [
    "$$\\binom{a}{b} = \\frac{a!}{b!(b-a)!}$$"
   ]
  },
  {
   "cell_type": "markdown",
   "metadata": {},
   "source": [
    "$$ n! = n\\cdot (n-1) \\cdot (n-2) \\ldots \\cdot 2 \\cdot 1 $$"
   ]
  },
  {
   "cell_type": "markdown",
   "metadata": {},
   "source": [
    "$$n! = n\\cdot (n-1)! $$\n",
    "\n",
    "$$0! = 1$$\n",
    "$$1! = 1$$"
   ]
  },
  {
   "cell_type": "code",
   "execution_count": 51,
   "metadata": {},
   "outputs": [
    {
     "data": {
      "text/plain": [
       "55"
      ]
     },
     "execution_count": 51,
     "metadata": {},
     "output_type": "execute_result"
    }
   ],
   "source": [
    "def fib(n):\n",
    "    if n == 1:\n",
    "        return 1\n",
    "    elif n == 2:\n",
    "        return 1\n",
    "    else: \n",
    "        return fib(n-1) + fib(n-2)\n",
    "    \n",
    "fib(10)"
   ]
  },
  {
   "cell_type": "code",
   "execution_count": 76,
   "metadata": {},
   "outputs": [
    {
     "data": {
      "text/plain": [
       "720"
      ]
     },
     "execution_count": 76,
     "metadata": {},
     "output_type": "execute_result"
    }
   ],
   "source": [
    "def factorial(n):\n",
    "    if n==0:\n",
    "        return 1\n",
    "    elif n==1:\n",
    "        return 1\n",
    "    else:\n",
    "        return n*factorial(n-1)\n",
    "        \n",
    "factorial(6)"
   ]
  },
  {
   "cell_type": "code",
   "execution_count": 77,
   "metadata": {},
   "outputs": [],
   "source": [
    "from math import exp"
   ]
  },
  {
   "cell_type": "code",
   "execution_count": 79,
   "metadata": {},
   "outputs": [
    {
     "data": {
      "text/plain": [
       "1.0"
      ]
     },
     "execution_count": 79,
     "metadata": {},
     "output_type": "execute_result"
    }
   ],
   "source": [
    "exp(0)"
   ]
  },
  {
   "cell_type": "code",
   "execution_count": 84,
   "metadata": {},
   "outputs": [],
   "source": [
    "def poisson(x, lamb):\n",
    "    return exp(-lamb)*lamb**x/factorial(x)"
   ]
  },
  {
   "cell_type": "code",
   "execution_count": 85,
   "metadata": {},
   "outputs": [
    {
     "data": {
      "text/plain": [
       "0.1251100357211333"
      ]
     },
     "execution_count": 85,
     "metadata": {},
     "output_type": "execute_result"
    }
   ],
   "source": [
    "poisson(x=10, lamb=10)"
   ]
  },
  {
   "cell_type": "code",
   "execution_count": 92,
   "metadata": {},
   "outputs": [
    {
     "name": "stdout",
     "output_type": "stream",
     "text": [
      "\"sepal.length\",\"sepal.width\",\"petal.length\",\"petal.width\",\"variety\"\n",
      "5.1,3.5,1.4,.2,\"Setosa\"\n",
      "4.9,3,1.4,.2,\"Setosa\"\n",
      "4.7,3.2,1.3,.2,\"Setosa\"\n",
      "4.6,3.1,1.5,.2,\"Setosa\"\n",
      "5,3.6,1.4,.2,\"Setosa\"\n",
      "5.4,3.9,1.7,.4,\"Setosa\"\n",
      "4.6,3.4,1.4,.3,\"Setosa\"\n",
      "5,3.4,1.5,.2,\"Setosa\"\n",
      "4.4,2.9,1.4,.2,\"Setosa\"\n",
      "4.9,3.1,1.5,.1,\"Setosa\"\n",
      "5.4,3.7,1.5,.2,\"Setosa\"\n",
      "4.8,3.4,1.6,.2,\"Setosa\"\n",
      "4.8,3,1.4,.1,\"Setosa\"\n",
      "4.3,3,1.1,.1,\"Setosa\"\n",
      "5.8,4,1.2,.2,\"Setosa\"\n",
      "5.7,4.4,1.5,.4,\"Setosa\"\n",
      "5.4,3.9,1.3,.4,\"Setosa\"\n",
      "5.1,3.5,1.4,.3,\"Setosa\"\n",
      "5.7,3.8,1.7,.3,\"Setosa\"\n",
      "5.1,3.8,1.5,.3,\"Setosa\"\n",
      "5.4,3.4,1.7,.2,\"Setosa\"\n",
      "5.1,3.7,1.5,.4,\"Setosa\"\n",
      "4.6,3.6,1,.2,\"Setosa\"\n",
      "5.1,3.3,1.7,.5,\"Setosa\"\n",
      "4.8,3.4,1.9,.2,\"Setosa\"\n",
      "5,3,1.6,.2,\"Setosa\"\n",
      "5,3.4,1.6,.4,\"Setosa\"\n",
      "5.2,3.5,1.5,.2,\"Setosa\"\n",
      "5.2,3.4,1.4,.2,\"Setosa\"\n",
      "4.7,3.2,1.6,.2,\"Setosa\"\n",
      "4.8,3.1,1.6,.2,\"Setosa\"\n",
      "5.4,3.4,1.5,.4,\"Setosa\"\n",
      "5.2,4.1,1.5,.1,\"Setosa\"\n",
      "5.5,4.2,1.4,.2,\"Setosa\"\n",
      "4.9,3.1,1.5,.2,\"Setosa\"\n",
      "5,3.2,1.2,.2,\"Setosa\"\n",
      "5.5,3.5,1.3,.2,\"Setosa\"\n",
      "4.9,3.6,1.4,.1,\"Setosa\"\n",
      "4.4,3,1.3,.2,\"Setosa\"\n",
      "5.1,3.4,1.5,.2,\"Setosa\"\n",
      "5,3.5,1.3,.3,\"Setosa\"\n",
      "4.5,2.3,1.3,.3,\"Setosa\"\n",
      "4.4,3.2,1.3,.2,\"Setosa\"\n",
      "5,3.5,1.6,.6,\"Setosa\"\n",
      "5.1,3.8,1.9,.4,\"Setosa\"\n",
      "4.8,3,1.4,.3,\"Setosa\"\n",
      "5.1,3.8,1.6,.2,\"Setosa\"\n",
      "4.6,3.2,1.4,.2,\"Setosa\"\n",
      "5.3,3.7,1.5,.2,\"Setosa\"\n",
      "5,3.3,1.4,.2,\"Setosa\"\n",
      "7,3.2,4.7,1.4,\"Versicolor\"\n",
      "6.4,3.2,4.5,1.5,\"Versicolor\"\n",
      "6.9,3.1,4.9,1.5,\"Versicolor\"\n",
      "5.5,2.3,4,1.3,\"Versicolor\"\n",
      "6.5,2.8,4.6,1.5,\"Versicolor\"\n",
      "5.7,2.8,4.5,1.3,\"Versicolor\"\n",
      "6.3,3.3,4.7,1.6,\"Versicolor\"\n",
      "4.9,2.4,3.3,1,\"Versicolor\"\n",
      "6.6,2.9,4.6,1.3,\"Versicolor\"\n",
      "5.2,2.7,3.9,1.4,\"Versicolor\"\n",
      "5,2,3.5,1,\"Versicolor\"\n",
      "5.9,3,4.2,1.5,\"Versicolor\"\n",
      "6,2.2,4,1,\"Versicolor\"\n",
      "6.1,2.9,4.7,1.4,\"Versicolor\"\n",
      "5.6,2.9,3.6,1.3,\"Versicolor\"\n",
      "6.7,3.1,4.4,1.4,\"Versicolor\"\n",
      "5.6,3,4.5,1.5,\"Versicolor\"\n",
      "5.8,2.7,4.1,1,\"Versicolor\"\n",
      "6.2,2.2,4.5,1.5,\"Versicolor\"\n",
      "5.6,2.5,3.9,1.1,\"Versicolor\"\n",
      "5.9,3.2,4.8,1.8,\"Versicolor\"\n",
      "6.1,2.8,4,1.3,\"Versicolor\"\n",
      "6.3,2.5,4.9,1.5,\"Versicolor\"\n",
      "6.1,2.8,4.7,1.2,\"Versicolor\"\n",
      "6.4,2.9,4.3,1.3,\"Versicolor\"\n",
      "6.6,3,4.4,1.4,\"Versicolor\"\n",
      "6.8,2.8,4.8,1.4,\"Versicolor\"\n",
      "6.7,3,5,1.7,\"Versicolor\"\n",
      "6,2.9,4.5,1.5,\"Versicolor\"\n",
      "5.7,2.6,3.5,1,\"Versicolor\"\n",
      "5.5,2.4,3.8,1.1,\"Versicolor\"\n",
      "5.5,2.4,3.7,1,\"Versicolor\"\n",
      "5.8,2.7,3.9,1.2,\"Versicolor\"\n",
      "6,2.7,5.1,1.6,\"Versicolor\"\n",
      "5.4,3,4.5,1.5,\"Versicolor\"\n",
      "6,3.4,4.5,1.6,\"Versicolor\"\n",
      "6.7,3.1,4.7,1.5,\"Versicolor\"\n",
      "6.3,2.3,4.4,1.3,\"Versicolor\"\n",
      "5.6,3,4.1,1.3,\"Versicolor\"\n",
      "5.5,2.5,4,1.3,\"Versicolor\"\n",
      "5.5,2.6,4.4,1.2,\"Versicolor\"\n",
      "6.1,3,4.6,1.4,\"Versicolor\"\n",
      "5.8,2.6,4,1.2,\"Versicolor\"\n",
      "5,2.3,3.3,1,\"Versicolor\"\n",
      "5.6,2.7,4.2,1.3,\"Versicolor\"\n",
      "5.7,3,4.2,1.2,\"Versicolor\"\n",
      "5.7,2.9,4.2,1.3,\"Versicolor\"\n",
      "6.2,2.9,4.3,1.3,\"Versicolor\"\n",
      "5.1,2.5,3,1.1,\"Versicolor\"\n",
      "5.7,2.8,4.1,1.3,\"Versicolor\"\n",
      "6.3,3.3,6,2.5,\"Virginica\"\n",
      "5.8,2.7,5.1,1.9,\"Virginica\"\n",
      "7.1,3,5.9,2.1,\"Virginica\"\n",
      "6.3,2.9,5.6,1.8,\"Virginica\"\n",
      "6.5,3,5.8,2.2,\"Virginica\"\n",
      "7.6,3,6.6,2.1,\"Virginica\"\n",
      "4.9,2.5,4.5,1.7,\"Virginica\"\n",
      "7.3,2.9,6.3,1.8,\"Virginica\"\n",
      "6.7,2.5,5.8,1.8,\"Virginica\"\n",
      "7.2,3.6,6.1,2.5,\"Virginica\"\n",
      "6.5,3.2,5.1,2,\"Virginica\"\n",
      "6.4,2.7,5.3,1.9,\"Virginica\"\n",
      "6.8,3,5.5,2.1,\"Virginica\"\n",
      "5.7,2.5,5,2,\"Virginica\"\n",
      "5.8,2.8,5.1,2.4,\"Virginica\"\n",
      "6.4,3.2,5.3,2.3,\"Virginica\"\n",
      "6.5,3,5.5,1.8,\"Virginica\"\n",
      "7.7,3.8,6.7,2.2,\"Virginica\"\n",
      "7.7,2.6,6.9,2.3,\"Virginica\"\n",
      "6,2.2,5,1.5,\"Virginica\"\n",
      "6.9,3.2,5.7,2.3,\"Virginica\"\n",
      "5.6,2.8,4.9,2,\"Virginica\"\n",
      "7.7,2.8,6.7,2,\"Virginica\"\n",
      "6.3,2.7,4.9,1.8,\"Virginica\"\n",
      "6.7,3.3,5.7,2.1,\"Virginica\"\n",
      "7.2,3.2,6,1.8,\"Virginica\"\n",
      "6.2,2.8,4.8,1.8,\"Virginica\"\n",
      "6.1,3,4.9,1.8,\"Virginica\"\n",
      "6.4,2.8,5.6,2.1,\"Virginica\"\n",
      "7.2,3,5.8,1.6,\"Virginica\"\n",
      "7.4,2.8,6.1,1.9,\"Virginica\"\n",
      "7.9,3.8,6.4,2,\"Virginica\"\n",
      "6.4,2.8,5.6,2.2,\"Virginica\"\n",
      "6.3,2.8,5.1,1.5,\"Virginica\"\n",
      "6.1,2.6,5.6,1.4,\"Virginica\"\n",
      "7.7,3,6.1,2.3,\"Virginica\"\n",
      "6.3,3.4,5.6,2.4,\"Virginica\"\n",
      "6.4,3.1,5.5,1.8,\"Virginica\"\n",
      "6,3,4.8,1.8,\"Virginica\"\n",
      "6.9,3.1,5.4,2.1,\"Virginica\"\n",
      "6.7,3.1,5.6,2.4,\"Virginica\"\n",
      "6.9,3.1,5.1,2.3,\"Virginica\"\n",
      "5.8,2.7,5.1,1.9,\"Virginica\"\n",
      "6.8,3.2,5.9,2.3,\"Virginica\"\n",
      "6.7,3.3,5.7,2.5,\"Virginica\"\n",
      "6.7,3,5.2,2.3,\"Virginica\"\n",
      "6.3,2.5,5,1.9,\"Virginica\"\n",
      "6.5,3,5.2,2,\"Virginica\"\n",
      "6.2,3.4,5.4,2.3,\"Virginica\"\n",
      "5.9,3,5.1,1.8,\"Virginica\"\n"
     ]
    }
   ],
   "source": [
    "!cat iris.csv"
   ]
  },
  {
   "cell_type": "code",
   "execution_count": 89,
   "metadata": {},
   "outputs": [],
   "source": [
    "## Programación en python: Lectura de Archivos\n",
    "import csv\n",
    "\n",
    "with open(\"iris.csv\") as csvfile:\n",
    "    iris = list(csv.DictReader(csvfile))"
   ]
  },
  {
   "cell_type": "code",
   "execution_count": 90,
   "metadata": {},
   "outputs": [
    {
     "data": {
      "text/plain": [
       "[OrderedDict([('sepal.length', '5.1'),\n",
       "              ('sepal.width', '3.5'),\n",
       "              ('petal.length', '1.4'),\n",
       "              ('petal.width', '.2'),\n",
       "              ('variety', 'Setosa')]),\n",
       " OrderedDict([('sepal.length', '4.9'),\n",
       "              ('sepal.width', '3'),\n",
       "              ('petal.length', '1.4'),\n",
       "              ('petal.width', '.2'),\n",
       "              ('variety', 'Setosa')]),\n",
       " OrderedDict([('sepal.length', '4.7'),\n",
       "              ('sepal.width', '3.2'),\n",
       "              ('petal.length', '1.3'),\n",
       "              ('petal.width', '.2'),\n",
       "              ('variety', 'Setosa')])]"
      ]
     },
     "execution_count": 90,
     "metadata": {},
     "output_type": "execute_result"
    }
   ],
   "source": [
    "iris[:3]"
   ]
  },
  {
   "cell_type": "markdown",
   "metadata": {},
   "source": [
    "Spoiler Alert!\n",
    "=="
   ]
  },
  {
   "cell_type": "code",
   "execution_count": 13,
   "metadata": {},
   "outputs": [],
   "source": [
    "import pandas as pd"
   ]
  },
  {
   "cell_type": "code",
   "execution_count": 93,
   "metadata": {},
   "outputs": [
    {
     "data": {
      "text/html": [
       "<div>\n",
       "<style scoped>\n",
       "    .dataframe tbody tr th:only-of-type {\n",
       "        vertical-align: middle;\n",
       "    }\n",
       "\n",
       "    .dataframe tbody tr th {\n",
       "        vertical-align: top;\n",
       "    }\n",
       "\n",
       "    .dataframe thead th {\n",
       "        text-align: right;\n",
       "    }\n",
       "</style>\n",
       "<table border=\"1\" class=\"dataframe\">\n",
       "  <thead>\n",
       "    <tr style=\"text-align: right;\">\n",
       "      <th></th>\n",
       "      <th>sepal.length</th>\n",
       "      <th>sepal.width</th>\n",
       "      <th>petal.length</th>\n",
       "      <th>petal.width</th>\n",
       "      <th>variety</th>\n",
       "    </tr>\n",
       "  </thead>\n",
       "  <tbody>\n",
       "    <tr>\n",
       "      <th>0</th>\n",
       "      <td>5.1</td>\n",
       "      <td>3.5</td>\n",
       "      <td>1.4</td>\n",
       "      <td>0.2</td>\n",
       "      <td>Setosa</td>\n",
       "    </tr>\n",
       "    <tr>\n",
       "      <th>1</th>\n",
       "      <td>4.9</td>\n",
       "      <td>3.0</td>\n",
       "      <td>1.4</td>\n",
       "      <td>0.2</td>\n",
       "      <td>Setosa</td>\n",
       "    </tr>\n",
       "    <tr>\n",
       "      <th>2</th>\n",
       "      <td>4.7</td>\n",
       "      <td>3.2</td>\n",
       "      <td>1.3</td>\n",
       "      <td>0.2</td>\n",
       "      <td>Setosa</td>\n",
       "    </tr>\n",
       "    <tr>\n",
       "      <th>3</th>\n",
       "      <td>4.6</td>\n",
       "      <td>3.1</td>\n",
       "      <td>1.5</td>\n",
       "      <td>0.2</td>\n",
       "      <td>Setosa</td>\n",
       "    </tr>\n",
       "    <tr>\n",
       "      <th>4</th>\n",
       "      <td>5.0</td>\n",
       "      <td>3.6</td>\n",
       "      <td>1.4</td>\n",
       "      <td>0.2</td>\n",
       "      <td>Setosa</td>\n",
       "    </tr>\n",
       "  </tbody>\n",
       "</table>\n",
       "</div>"
      ],
      "text/plain": [
       "   sepal.length  sepal.width  petal.length  petal.width variety\n",
       "0           5.1          3.5           1.4          0.2  Setosa\n",
       "1           4.9          3.0           1.4          0.2  Setosa\n",
       "2           4.7          3.2           1.3          0.2  Setosa\n",
       "3           4.6          3.1           1.5          0.2  Setosa\n",
       "4           5.0          3.6           1.4          0.2  Setosa"
      ]
     },
     "execution_count": 93,
     "metadata": {},
     "output_type": "execute_result"
    }
   ],
   "source": [
    "pd.read_csv(\"./iris.csv\").head()"
   ]
  },
  {
   "cell_type": "markdown",
   "metadata": {},
   "source": [
    "Ejercicio:\n",
    "\n",
    "    Calcule un indicador para cada una de las flores:\n",
    "    \n",
    "    1. el largo del sépalo + largo del pétalo usando ciclos for.\n",
    "    2. Usando pandas"
   ]
  },
  {
   "cell_type": "code",
   "execution_count": 94,
   "metadata": {},
   "outputs": [
    {
     "name": "stdout",
     "output_type": "stream",
     "text": [
      "6.5\n",
      "6.300000000000001\n",
      "6.0\n",
      "6.1\n",
      "6.4\n",
      "7.1000000000000005\n",
      "6.0\n",
      "6.5\n",
      "5.800000000000001\n",
      "6.4\n",
      "6.9\n",
      "6.4\n",
      "6.199999999999999\n",
      "5.4\n",
      "7.0\n",
      "7.2\n",
      "6.7\n",
      "6.5\n",
      "7.4\n",
      "6.6\n",
      "7.1000000000000005\n",
      "6.6\n",
      "5.6\n",
      "6.8\n",
      "6.699999999999999\n",
      "6.6\n",
      "6.6\n",
      "6.7\n",
      "6.6\n",
      "6.300000000000001\n",
      "6.4\n",
      "6.9\n",
      "6.7\n",
      "6.9\n",
      "6.4\n",
      "6.2\n",
      "6.8\n",
      "6.300000000000001\n",
      "5.7\n",
      "6.6\n",
      "6.3\n",
      "5.8\n",
      "5.7\n",
      "6.6\n",
      "7.0\n",
      "6.199999999999999\n",
      "6.699999999999999\n",
      "6.0\n",
      "6.8\n",
      "6.4\n",
      "11.7\n",
      "10.9\n",
      "11.8\n",
      "9.5\n",
      "11.1\n",
      "10.2\n",
      "11.0\n",
      "8.2\n",
      "11.2\n",
      "9.1\n",
      "8.5\n",
      "10.100000000000001\n",
      "10.0\n",
      "10.8\n",
      "9.2\n",
      "11.100000000000001\n",
      "10.1\n",
      "9.899999999999999\n",
      "10.7\n",
      "9.5\n",
      "10.7\n",
      "10.1\n",
      "11.2\n",
      "10.8\n",
      "10.7\n",
      "11.0\n",
      "11.6\n",
      "11.7\n",
      "10.5\n",
      "9.2\n",
      "9.3\n",
      "9.2\n",
      "9.7\n",
      "11.1\n",
      "9.9\n",
      "10.5\n",
      "11.4\n",
      "10.7\n",
      "9.7\n",
      "9.5\n",
      "9.9\n",
      "10.7\n",
      "9.8\n",
      "8.3\n",
      "9.8\n",
      "9.9\n",
      "9.9\n",
      "10.5\n",
      "8.1\n",
      "9.8\n"
     ]
    }
   ],
   "source": [
    "for flor in iris[0:100]:\n",
    "    print(float(flor['sepal.length']) + float(flor['petal.length']))"
   ]
  },
  {
   "cell_type": "markdown",
   "metadata": {},
   "source": [
    "## Programación en python: Orientación a objetos y programación funcional\n",
    "\n",
    "\n",
    "Python es un lenguaje de programación multiparadigma por lo cual podemos usar distintas maneras de programación:\n",
    "\n",
    "1. Funcional\n",
    "2. Orientada a objetos\n",
    "3. Orientada a aspectos\n",
    "\n",
    "Las 3 formas de programación interactuan de tal manera de hacer el lenguaje más expresivo y auto explicado."
   ]
  },
  {
   "cell_type": "markdown",
   "metadata": {},
   "source": [
    "## Programación en python: Objetos y mapeo\n",
    "\n",
    "'The purpose of abstraction is not to be vague, but to create a new semantic level in which one can be absolutely precise' - Edsger Dijkstra\n",
    "\n",
    "Los objetos nos permiten abstraer entidades en nuevos tipos, es un concepto fundamental para el modelamiento de software y librerías. "
   ]
  },
  {
   "cell_type": "code",
   "execution_count": 95,
   "metadata": {},
   "outputs": [],
   "source": [
    "class Person:\n",
    "    department = 'School of Information' #a class variable\n",
    "\n",
    "    def set_name(self, new_name): #a method\n",
    "        self.name = new_name\n",
    "    def set_location(self, new_location):\n",
    "        self.location = new_location"
   ]
  },
  {
   "cell_type": "code",
   "execution_count": 96,
   "metadata": {},
   "outputs": [],
   "source": [
    "person = Person()"
   ]
  },
  {
   "cell_type": "code",
   "execution_count": 99,
   "metadata": {},
   "outputs": [],
   "source": [
    "person.set_name(\"Andres\")"
   ]
  },
  {
   "cell_type": "code",
   "execution_count": 101,
   "metadata": {},
   "outputs": [],
   "source": [
    "person.set_location(\"santiago\")"
   ]
  },
  {
   "cell_type": "code",
   "execution_count": 102,
   "metadata": {},
   "outputs": [
    {
     "data": {
      "text/plain": [
       "'santiago'"
      ]
     },
     "execution_count": 102,
     "metadata": {},
     "output_type": "execute_result"
    }
   ],
   "source": [
    "person.location"
   ]
  },
  {
   "cell_type": "code",
   "execution_count": 107,
   "metadata": {},
   "outputs": [
    {
     "data": {
      "text/plain": [
       "4"
      ]
     },
     "execution_count": 107,
     "metadata": {},
     "output_type": "execute_result"
    }
   ],
   "source": [
    "a = 10\n",
    "a.bit_length()"
   ]
  },
  {
   "cell_type": "code",
   "execution_count": 35,
   "metadata": {},
   "outputs": [
    {
     "name": "stdout",
     "output_type": "stream",
     "text": [
      "Christopher Brooks live in Ann Arbor, MI, USA and works in the department School of Information\n"
     ]
    }
   ],
   "source": [
    "\n",
    "person.set_name('Christopher Brooks')\n",
    "person.set_location('Ann Arbor, MI, USA')\n",
    "print('{} live in {} and works in the department {}'.format(person.name, person.location, person.department))"
   ]
  },
  {
   "cell_type": "markdown",
   "metadata": {},
   "source": [
    "Por otro lado, la función map nos permite evaluar una función en cada elemento de una lista. Es un concepto fundamental de la programación funcional y es la base del algoritmo map-reduce."
   ]
  },
  {
   "cell_type": "code",
   "execution_count": 30,
   "metadata": {},
   "outputs": [
    {
     "data": {
      "text/plain": [
       "[9.0, 11.0, 12.34, 2.01]"
      ]
     },
     "execution_count": 30,
     "metadata": {},
     "output_type": "execute_result"
    }
   ],
   "source": [
    "store1 = [10.00, 11.00, 12.34, 2.34]\n",
    "store2 = [9.00, 11.10, 12.34, 2.01]\n",
    "cheapest = map(min, store1, store2)\n",
    "list(cheapest)"
   ]
  },
  {
   "cell_type": "markdown",
   "metadata": {},
   "source": [
    "## Programación en python: Funciones lambda y comprensión de listas"
   ]
  },
  {
   "cell_type": "markdown",
   "metadata": {},
   "source": [
    "La programación funcional nos permite operar sobre listas de manera más cómoda."
   ]
  },
  {
   "cell_type": "code",
   "execution_count": 25,
   "metadata": {},
   "outputs": [
    {
     "data": {
      "text/plain": [
       "3"
      ]
     },
     "execution_count": 25,
     "metadata": {},
     "output_type": "execute_result"
    }
   ],
   "source": [
    "my_fn = lambda a,b,c: a + b\n",
    "\n",
    "my_fn(1, 2, 3)"
   ]
  },
  {
   "cell_type": "code",
   "execution_count": 31,
   "metadata": {},
   "outputs": [],
   "source": [
    "square = lambda x: x**2"
   ]
  },
  {
   "cell_type": "code",
   "execution_count": 33,
   "metadata": {},
   "outputs": [
    {
     "data": {
      "text/plain": [
       "[1, 4, 9, 16]"
      ]
     },
     "execution_count": 33,
     "metadata": {},
     "output_type": "execute_result"
    }
   ],
   "source": [
    "list(map(square, [1,2,3,4]))"
   ]
  },
  {
   "cell_type": "markdown",
   "metadata": {},
   "source": [
    "## Programación en python: La librería numpy\n",
    "\n",
    "[lectura adicional](https://es.wikipedia.org/wiki/NumPy)"
   ]
  },
  {
   "cell_type": "markdown",
   "metadata": {},
   "source": [
    "La programación con orientación más científica requiere de cálculo intensivo y eficiente sobre matrices. Tener una librería para el manejo de arreglos numéricos es la base de casi todos los algoritmos de predicción y clasificación en el ámbito de ciencia de datos."
   ]
  },
  {
   "cell_type": "code",
   "execution_count": 36,
   "metadata": {},
   "outputs": [],
   "source": [
    "import numpy as np"
   ]
  },
  {
   "cell_type": "markdown",
   "metadata": {},
   "source": [
    "creación de arreglos\n"
   ]
  },
  {
   "cell_type": "code",
   "execution_count": 37,
   "metadata": {},
   "outputs": [
    {
     "data": {
      "text/plain": [
       "array([1, 2, 3])"
      ]
     },
     "execution_count": 37,
     "metadata": {},
     "output_type": "execute_result"
    }
   ],
   "source": [
    "mylist = [1, 2, 3]\n",
    "x = np.array(mylist)\n",
    "x"
   ]
  },
  {
   "cell_type": "markdown",
   "metadata": {},
   "source": [
    "o pasamos directamente"
   ]
  },
  {
   "cell_type": "code",
   "execution_count": 38,
   "metadata": {},
   "outputs": [
    {
     "data": {
      "text/plain": [
       "array([4, 5, 6])"
      ]
     },
     "execution_count": 38,
     "metadata": {},
     "output_type": "execute_result"
    }
   ],
   "source": [
    "y = np.array([4, 5, 6])\n",
    "y"
   ]
  },
  {
   "cell_type": "markdown",
   "metadata": {},
   "source": [
    "listas de listas generan matrices"
   ]
  },
  {
   "cell_type": "code",
   "execution_count": 39,
   "metadata": {},
   "outputs": [
    {
     "data": {
      "text/plain": [
       "array([[ 7,  8,  9],\n",
       "       [10, 11, 12]])"
      ]
     },
     "execution_count": 39,
     "metadata": {},
     "output_type": "execute_result"
    }
   ],
   "source": [
    "m = np.array([[7, 8, 9], [10, 11, 12]])\n",
    "m"
   ]
  },
  {
   "cell_type": "markdown",
   "metadata": {},
   "source": [
    "## Spoiler alert"
   ]
  },
  {
   "cell_type": "code",
   "execution_count": 41,
   "metadata": {},
   "outputs": [],
   "source": [
    "%matplotlib inline"
   ]
  },
  {
   "cell_type": "code",
   "execution_count": 43,
   "metadata": {},
   "outputs": [
    {
     "data": {
      "image/png": "[encoded data removed]",
      "text/plain": [
       "<Figure size 432x288 with 1 Axes>"
      ]
     },
     "metadata": {},
     "output_type": "display_data"
    }
   ],
   "source": [
    "import numpy\n",
    "from matplotlib import pyplot\n",
    "x = numpy.linspace(0, 2 * numpy.pi, 10)\n",
    "y = numpy.sin(x)\n",
    "pyplot.plot(x, y)\n",
    "pyplot.show()"
   ]
  },
  {
   "cell_type": "code",
   "execution_count": 44,
   "metadata": {},
   "outputs": [
    {
     "data": {
      "text/plain": [
       "(2, 3)"
      ]
     },
     "execution_count": 44,
     "metadata": {},
     "output_type": "execute_result"
    }
   ],
   "source": [
    "m.shape"
   ]
  },
  {
   "cell_type": "code",
   "execution_count": 47,
   "metadata": {},
   "outputs": [
    {
     "data": {
      "text/plain": [
       "array([ 0,  2,  4,  6,  8, 10, 12, 14, 16, 18, 20, 22, 24, 26, 28])"
      ]
     },
     "execution_count": 47,
     "metadata": {},
     "output_type": "execute_result"
    }
   ],
   "source": [
    "n = np.arange(0, 30, 2) \n",
    "n"
   ]
  },
  {
   "cell_type": "code",
   "execution_count": 48,
   "metadata": {},
   "outputs": [
    {
     "data": {
      "text/plain": [
       "array([0. , 0.5, 1. , 1.5, 2. , 2.5, 3. , 3.5, 4. ])"
      ]
     },
     "execution_count": 48,
     "metadata": {},
     "output_type": "execute_result"
    }
   ],
   "source": [
    "o = np.linspace(0, 4, 9) # return 9 evenly spaced values from 0 to 4\n",
    "o"
   ]
  },
  {
   "cell_type": "code",
   "execution_count": 49,
   "metadata": {},
   "outputs": [
    {
     "data": {
      "text/plain": [
       "array([[0. , 0.5, 1. ],\n",
       "       [1.5, 2. , 2.5],\n",
       "       [3. , 3.5, 4. ]])"
      ]
     },
     "execution_count": 49,
     "metadata": {},
     "output_type": "execute_result"
    }
   ],
   "source": [
    "o.resize(3, 3)\n",
    "o"
   ]
  },
  {
   "cell_type": "code",
   "execution_count": 50,
   "metadata": {},
   "outputs": [
    {
     "data": {
      "text/plain": [
       "array([[0., 0., 0.],\n",
       "       [0., 0., 0.]])"
      ]
     },
     "execution_count": 50,
     "metadata": {},
     "output_type": "execute_result"
    }
   ],
   "source": [
    "np.zeros((2, 3))"
   ]
  },
  {
   "cell_type": "markdown",
   "metadata": {},
   "source": [
    "sobre carga de operación"
   ]
  },
  {
   "cell_type": "code",
   "execution_count": 51,
   "metadata": {},
   "outputs": [
    {
     "data": {
      "text/plain": [
       "array([1, 2, 3, 1, 2, 3, 1, 2, 3])"
      ]
     },
     "execution_count": 51,
     "metadata": {},
     "output_type": "execute_result"
    }
   ],
   "source": [
    "np.array([1, 2, 3] * 3)"
   ]
  },
  {
   "cell_type": "code",
   "execution_count": 52,
   "metadata": {},
   "outputs": [
    {
     "data": {
      "text/plain": [
       "array([3, 6, 9])"
      ]
     },
     "execution_count": 52,
     "metadata": {},
     "output_type": "execute_result"
    }
   ],
   "source": [
    "np.array([1, 2, 3]) * 3"
   ]
  },
  {
   "cell_type": "markdown",
   "metadata": {},
   "source": [
    "### combinar matrices"
   ]
  },
  {
   "cell_type": "code",
   "execution_count": 56,
   "metadata": {},
   "outputs": [
    {
     "data": {
      "text/plain": [
       "array([[1, 1, 1],\n",
       "       [1, 1, 1],\n",
       "       [2, 2, 2],\n",
       "       [2, 2, 2]])"
      ]
     },
     "execution_count": 56,
     "metadata": {},
     "output_type": "execute_result"
    }
   ],
   "source": [
    "p = np.ones([2, 3], int)\n",
    "np.vstack([p, 2*p])"
   ]
  },
  {
   "cell_type": "code",
   "execution_count": 57,
   "metadata": {},
   "outputs": [
    {
     "data": {
      "text/plain": [
       "array([[1, 1, 1, 2, 2, 2],\n",
       "       [1, 1, 1, 2, 2, 2]])"
      ]
     },
     "execution_count": 57,
     "metadata": {},
     "output_type": "execute_result"
    }
   ],
   "source": [
    "np.hstack([p, 2*p])"
   ]
  },
  {
   "cell_type": "markdown",
   "metadata": {},
   "source": [
    "Ejercicio:\n",
    "    \n",
    "Encontrar el $\\hat{\\beta}$ para el modelo de mínimos cuadrados ordinarios."
   ]
  },
  {
   "cell_type": "markdown",
   "metadata": {},
   "source": [
    "## Programación en python: Creación de Librerías"
   ]
  },
  {
   "cell_type": "markdown",
   "metadata": {},
   "source": [
    "Ejercicio definitivo:\n",
    "\n",
    "    Cree una librería de funciones de probabilidad discreta en python\n",
    "    "
   ]
  },
  {
   "cell_type": "code",
   "execution_count": 1,
   "metadata": {},
   "outputs": [
    {
     "ename": "SyntaxError",
     "evalue": "invalid syntax (<ipython-input-1-1b733ee164e2>, line 3)",
     "output_type": "error",
     "traceback": [
      "\u001b[1;36m  File \u001b[1;32m\"<ipython-input-1-1b733ee164e2>\"\u001b[1;36m, line \u001b[1;32m3\u001b[0m\n\u001b[1;33m    poisson = dd.Poisson(lambda = 3)\u001b[0m\n\u001b[1;37m                                ^\u001b[0m\n\u001b[1;31mSyntaxError\u001b[0m\u001b[1;31m:\u001b[0m invalid syntax\n"
     ]
    }
   ],
   "source": [
    "import distribuciones_discretas as dd\n",
    "\n",
    "poisson = dd.Poisson(lambda = 3)\n",
    "\n",
    "poisson.get_prob(3)"
   ]
  },
  {
   "cell_type": "markdown",
   "metadata": {},
   "source": [
    "Investigación\n",
    "==\n",
    "\n",
    "Haga los ejemplos más básicos de las siguientes librerías\n",
    "\n",
    "\n",
    "1. Haga un ejemplo de scrapping con beautifull soup\n",
    "2. Resuelva un problema de optimización [OR-tools](https://developers.google.com/optimization/)\n",
    "3. Desarrolle un gráfico complejo con [matplotlib](https://matplotlib.org/)\n",
    "4. Hacer un dashboard simple con dash"
   ]
  },
  {
   "cell_type": "markdown",
   "metadata": {},
   "source": [
    "### Próximo capítulo: Manejo de dataframes en pandas ..."
   ]
  },
  {
   "cell_type": "code",
   "execution_count": null,
   "metadata": {},
   "outputs": [],
   "source": []
  }
 ],
 "metadata": {
  "kernelspec": {
   "display_name": "Python 3",
   "language": "python",
   "name": "python3"
  },
  "language_info": {
   "codemirror_mode": {
    "name": "ipython",
    "version": 3
   },
   "file_extension": ".py",
   "mimetype": "text/x-python",
   "name": "python",
   "nbconvert_exporter": "python",
   "pygments_lexer": "ipython3",
   "version": "3.7.3"
  }
 },
 "nbformat": 4,
 "nbformat_minor": 2
}
